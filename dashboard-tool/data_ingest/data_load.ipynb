{
 "cells": [
  {
   "cell_type": "code",
   "execution_count": 67,
   "metadata": {},
   "outputs": [],
   "source": [
    "import pandas as pd\n",
    "from datetime import datetime, timedelta\n",
    "from enum import Enum\n",
    "from sklearn.preprocessing import MinMaxScaler\n"
   ]
  },
  {
   "cell_type": "code",
   "execution_count": 7,
   "metadata": {},
   "outputs": [
    {
     "data": {
      "text/html": [
       "<div>\n",
       "<style scoped>\n",
       "    .dataframe tbody tr th:only-of-type {\n",
       "        vertical-align: middle;\n",
       "    }\n",
       "\n",
       "    .dataframe tbody tr th {\n",
       "        vertical-align: top;\n",
       "    }\n",
       "\n",
       "    .dataframe thead th {\n",
       "        text-align: right;\n",
       "    }\n",
       "</style>\n",
       "<table border=\"1\" class=\"dataframe\">\n",
       "  <thead>\n",
       "    <tr style=\"text-align: right;\">\n",
       "      <th></th>\n",
       "      <th>id</th>\n",
       "      <th>birth_date</th>\n",
       "      <th>gender</th>\n",
       "      <th>income</th>\n",
       "      <th>zip_code</th>\n",
       "    </tr>\n",
       "  </thead>\n",
       "  <tbody>\n",
       "    <tr>\n",
       "      <th>0</th>\n",
       "      <td>A3FNz</td>\n",
       "      <td>1992-01-01</td>\n",
       "      <td>male</td>\n",
       "      <td>12450-20200</td>\n",
       "      <td>NaN</td>\n",
       "    </tr>\n",
       "    <tr>\n",
       "      <th>1</th>\n",
       "      <td>A3XAe</td>\n",
       "      <td>1954-01-01</td>\n",
       "      <td>female</td>\n",
       "      <td>20200-35200</td>\n",
       "      <td>NaN</td>\n",
       "    </tr>\n",
       "    <tr>\n",
       "      <th>2</th>\n",
       "      <td>A3XNv</td>\n",
       "      <td>2003-01-01</td>\n",
       "      <td>male</td>\n",
       "      <td>0-12450</td>\n",
       "      <td>28891.0</td>\n",
       "    </tr>\n",
       "    <tr>\n",
       "      <th>3</th>\n",
       "      <td>Ac3N5</td>\n",
       "      <td>1995-01-01</td>\n",
       "      <td>male</td>\n",
       "      <td>20200-35200</td>\n",
       "      <td>8025.0</td>\n",
       "    </tr>\n",
       "    <tr>\n",
       "      <th>4</th>\n",
       "      <td>Ag5za</td>\n",
       "      <td>1957-01-01</td>\n",
       "      <td>female</td>\n",
       "      <td>12450-20200</td>\n",
       "      <td>28003.0</td>\n",
       "    </tr>\n",
       "  </tbody>\n",
       "</table>\n",
       "</div>"
      ],
      "text/plain": [
       "      id birth_date  gender       income  zip_code\n",
       "0  A3FNz 1992-01-01    male  12450-20200       NaN\n",
       "1  A3XAe 1954-01-01  female  20200-35200       NaN\n",
       "2  A3XNv 2003-01-01    male      0-12450   28891.0\n",
       "3  Ac3N5 1995-01-01    male  20200-35200    8025.0\n",
       "4  Ag5za 1957-01-01  female  12450-20200   28003.0"
      ]
     },
     "execution_count": 7,
     "metadata": {},
     "output_type": "execute_result"
    }
   ],
   "source": [
    "estudio1 = pd.read_csv('csv/initial_survey_estudio_1.csv')\n",
    "estudio1 = estudio1[['participant', 'age', 'gender', 'income', 'postcode']]\n",
    "estudio1.rename(columns={\"participant\": \"id\", \"postcode\": \"zip_code\"}, inplace=True)\n",
    "\n",
    "# Calculate birth year based on age\n",
    "estudio1['age'] = datetime.now().year - estudio1['age']\n",
    "\n",
    "# Create birth_date column with January 1 as the birth date\n",
    "estudio1['age'] = pd.to_datetime(estudio1['age'].astype(str) + '-01-01')\n",
    "\n",
    "estudio1 = estudio1.rename(columns={'age': 'birth_date'})\n",
    "\n",
    "estudio1.head()"
   ]
  },
  {
   "cell_type": "code",
   "execution_count": 8,
   "metadata": {},
   "outputs": [
    {
     "data": {
      "text/html": [
       "<div>\n",
       "<style scoped>\n",
       "    .dataframe tbody tr th:only-of-type {\n",
       "        vertical-align: middle;\n",
       "    }\n",
       "\n",
       "    .dataframe tbody tr th {\n",
       "        vertical-align: top;\n",
       "    }\n",
       "\n",
       "    .dataframe thead th {\n",
       "        text-align: right;\n",
       "    }\n",
       "</style>\n",
       "<table border=\"1\" class=\"dataframe\">\n",
       "  <thead>\n",
       "    <tr style=\"text-align: right;\">\n",
       "      <th></th>\n",
       "      <th>id</th>\n",
       "      <th>birth_date</th>\n",
       "      <th>gender</th>\n",
       "      <th>income</th>\n",
       "      <th>zip_code</th>\n",
       "    </tr>\n",
       "  </thead>\n",
       "  <tbody>\n",
       "    <tr>\n",
       "      <th>0</th>\n",
       "      <td>AMdzA</td>\n",
       "      <td>1978-01-01</td>\n",
       "      <td>female</td>\n",
       "      <td>20200-35200</td>\n",
       "      <td>1002.0</td>\n",
       "    </tr>\n",
       "    <tr>\n",
       "      <th>1</th>\n",
       "      <td>ASTAT</td>\n",
       "      <td>1997-01-01</td>\n",
       "      <td>male</td>\n",
       "      <td>20200-35200</td>\n",
       "      <td>3015.0</td>\n",
       "    </tr>\n",
       "    <tr>\n",
       "      <th>2</th>\n",
       "      <td>AWtpE</td>\n",
       "      <td>1963-01-01</td>\n",
       "      <td>female</td>\n",
       "      <td>12450-20200</td>\n",
       "      <td>3001.0</td>\n",
       "    </tr>\n",
       "    <tr>\n",
       "      <th>3</th>\n",
       "      <td>AYTpR</td>\n",
       "      <td>1976-01-01</td>\n",
       "      <td>female</td>\n",
       "      <td>0-12450</td>\n",
       "      <td>3540.0</td>\n",
       "    </tr>\n",
       "    <tr>\n",
       "      <th>4</th>\n",
       "      <td>AZpyK</td>\n",
       "      <td>1969-01-01</td>\n",
       "      <td>female</td>\n",
       "      <td>20200-35200</td>\n",
       "      <td>3001.0</td>\n",
       "    </tr>\n",
       "  </tbody>\n",
       "</table>\n",
       "</div>"
      ],
      "text/plain": [
       "      id birth_date  gender       income  zip_code\n",
       "0  AMdzA 1978-01-01  female  20200-35200    1002.0\n",
       "1  ASTAT 1997-01-01    male  20200-35200    3015.0\n",
       "2  AWtpE 1963-01-01  female  12450-20200    3001.0\n",
       "3  AYTpR 1976-01-01  female      0-12450    3540.0\n",
       "4  AZpyK 1969-01-01  female  20200-35200    3001.0"
      ]
     },
     "execution_count": 8,
     "metadata": {},
     "output_type": "execute_result"
    }
   ],
   "source": [
    "estudio2 = pd.read_csv('csv/initial_survey_estudio_2.csv')\n",
    "estudio2 = estudio2[['participant', 'birth_year', 'gender', 'income', 'postcode']]\n",
    "estudio2.rename(columns={\"participant\": \"id\", \"postcode\": \"zip_code\"}, inplace=True)\n",
    "# Convert birth_year to birth_date with January 1 as the birth date\n",
    "estudio2['birth_year'] = pd.to_datetime(estudio2['birth_year'].astype(str) + '-01-01')\n",
    "\n",
    "# Drop the birth_year column as it's no longer needed\n",
    "estudio2 = estudio2.rename(columns={'birth_year': 'birth_date'})\n",
    "\n",
    "estudio2.head()"
   ]
  },
  {
   "cell_type": "code",
   "execution_count": 4,
   "metadata": {},
   "outputs": [],
   "source": [
    "estudio1['studyId'] = 'aFeH8'\n",
    "estudio2['studyId'] = 'H39eC'"
   ]
  },
  {
   "cell_type": "code",
   "execution_count": 5,
   "metadata": {},
   "outputs": [
    {
     "data": {
      "text/html": [
       "<div>\n",
       "<style scoped>\n",
       "    .dataframe tbody tr th:only-of-type {\n",
       "        vertical-align: middle;\n",
       "    }\n",
       "\n",
       "    .dataframe tbody tr th {\n",
       "        vertical-align: top;\n",
       "    }\n",
       "\n",
       "    .dataframe thead th {\n",
       "        text-align: right;\n",
       "    }\n",
       "</style>\n",
       "<table border=\"1\" class=\"dataframe\">\n",
       "  <thead>\n",
       "    <tr style=\"text-align: right;\">\n",
       "      <th></th>\n",
       "      <th>id</th>\n",
       "      <th>gender</th>\n",
       "      <th>zip_code</th>\n",
       "      <th>income</th>\n",
       "      <th>birth_date</th>\n",
       "      <th>studyId</th>\n",
       "    </tr>\n",
       "  </thead>\n",
       "  <tbody>\n",
       "    <tr>\n",
       "      <th>0</th>\n",
       "      <td>A3FNz</td>\n",
       "      <td>male</td>\n",
       "      <td>NaN</td>\n",
       "      <td>12450-20200</td>\n",
       "      <td>1992-01-01</td>\n",
       "      <td>aFeH8</td>\n",
       "    </tr>\n",
       "    <tr>\n",
       "      <th>1</th>\n",
       "      <td>A3XAe</td>\n",
       "      <td>female</td>\n",
       "      <td>NaN</td>\n",
       "      <td>20200-35200</td>\n",
       "      <td>1954-01-01</td>\n",
       "      <td>aFeH8</td>\n",
       "    </tr>\n",
       "    <tr>\n",
       "      <th>2</th>\n",
       "      <td>A3XNv</td>\n",
       "      <td>male</td>\n",
       "      <td>28891.0</td>\n",
       "      <td>0-12450</td>\n",
       "      <td>2003-01-01</td>\n",
       "      <td>aFeH8</td>\n",
       "    </tr>\n",
       "    <tr>\n",
       "      <th>3</th>\n",
       "      <td>Ac3N5</td>\n",
       "      <td>male</td>\n",
       "      <td>8025.0</td>\n",
       "      <td>20200-35200</td>\n",
       "      <td>1995-01-01</td>\n",
       "      <td>aFeH8</td>\n",
       "    </tr>\n",
       "    <tr>\n",
       "      <th>4</th>\n",
       "      <td>Ag5za</td>\n",
       "      <td>female</td>\n",
       "      <td>28003.0</td>\n",
       "      <td>12450-20200</td>\n",
       "      <td>1957-01-01</td>\n",
       "      <td>aFeH8</td>\n",
       "    </tr>\n",
       "  </tbody>\n",
       "</table>\n",
       "</div>"
      ],
      "text/plain": [
       "      id  gender  zip_code       income birth_date studyId\n",
       "0  A3FNz    male       NaN  12450-20200 1992-01-01   aFeH8\n",
       "1  A3XAe  female       NaN  20200-35200 1954-01-01   aFeH8\n",
       "2  A3XNv    male   28891.0      0-12450 2003-01-01   aFeH8\n",
       "3  Ac3N5    male    8025.0  20200-35200 1995-01-01   aFeH8\n",
       "4  Ag5za  female   28003.0  12450-20200 1957-01-01   aFeH8"
      ]
     },
     "execution_count": 5,
     "metadata": {},
     "output_type": "execute_result"
    }
   ],
   "source": [
    "estudio1.head()"
   ]
  },
  {
   "cell_type": "code",
   "execution_count": 74,
   "metadata": {},
   "outputs": [],
   "source": [
    "indicadores = pd.read_csv('csv/indicators.csv')"
   ]
  },
  {
   "cell_type": "code",
   "execution_count": 36,
   "metadata": {},
   "outputs": [],
   "source": [
    "indicadores.rename(columns={\"study_id\": \"studyId\", \"participant\": \"participantId\", \"indicator_id\": \"indicatorNameId\"}, inplace=True)"
   ]
  },
  {
   "cell_type": "code",
   "execution_count": 37,
   "metadata": {},
   "outputs": [
    {
     "data": {
      "text/html": [
       "<div>\n",
       "<style scoped>\n",
       "    .dataframe tbody tr th:only-of-type {\n",
       "        vertical-align: middle;\n",
       "    }\n",
       "\n",
       "    .dataframe tbody tr th {\n",
       "        vertical-align: top;\n",
       "    }\n",
       "\n",
       "    .dataframe thead th {\n",
       "        text-align: right;\n",
       "    }\n",
       "</style>\n",
       "<table border=\"1\" class=\"dataframe\">\n",
       "  <thead>\n",
       "    <tr style=\"text-align: right;\">\n",
       "      <th></th>\n",
       "      <th>studyId</th>\n",
       "      <th>participantId</th>\n",
       "      <th>date</th>\n",
       "      <th>indicatorNameId</th>\n",
       "      <th>value</th>\n",
       "      <th>weighting</th>\n",
       "    </tr>\n",
       "  </thead>\n",
       "  <tbody>\n",
       "    <tr>\n",
       "      <th>0</th>\n",
       "      <td>aFeH8</td>\n",
       "      <td>A3FNz</td>\n",
       "      <td>2021-11-16</td>\n",
       "      <td>1</td>\n",
       "      <td>1672.22</td>\n",
       "      <td>0.808028</td>\n",
       "    </tr>\n",
       "    <tr>\n",
       "      <th>1</th>\n",
       "      <td>aFeH8</td>\n",
       "      <td>A3FNz</td>\n",
       "      <td>2021-11-17</td>\n",
       "      <td>1</td>\n",
       "      <td>1896.95</td>\n",
       "      <td>0.943785</td>\n",
       "    </tr>\n",
       "    <tr>\n",
       "      <th>2</th>\n",
       "      <td>aFeH8</td>\n",
       "      <td>A3FNz</td>\n",
       "      <td>2021-11-18</td>\n",
       "      <td>1</td>\n",
       "      <td>672.58</td>\n",
       "      <td>0.356847</td>\n",
       "    </tr>\n",
       "    <tr>\n",
       "      <th>3</th>\n",
       "      <td>aFeH8</td>\n",
       "      <td>A3FNz</td>\n",
       "      <td>2021-11-19</td>\n",
       "      <td>1</td>\n",
       "      <td>1889.60</td>\n",
       "      <td>0.929597</td>\n",
       "    </tr>\n",
       "    <tr>\n",
       "      <th>4</th>\n",
       "      <td>aFeH8</td>\n",
       "      <td>A3FNz</td>\n",
       "      <td>2021-11-20</td>\n",
       "      <td>1</td>\n",
       "      <td>1937.26</td>\n",
       "      <td>0.942528</td>\n",
       "    </tr>\n",
       "  </tbody>\n",
       "</table>\n",
       "</div>"
      ],
      "text/plain": [
       "  studyId participantId        date  indicatorNameId    value  weighting\n",
       "0   aFeH8         A3FNz  2021-11-16                1  1672.22   0.808028\n",
       "1   aFeH8         A3FNz  2021-11-17                1  1896.95   0.943785\n",
       "2   aFeH8         A3FNz  2021-11-18                1   672.58   0.356847\n",
       "3   aFeH8         A3FNz  2021-11-19                1  1889.60   0.929597\n",
       "4   aFeH8         A3FNz  2021-11-20                1  1937.26   0.942528"
      ]
     },
     "execution_count": 37,
     "metadata": {},
     "output_type": "execute_result"
    }
   ],
   "source": [
    "indicadores.head()"
   ]
  },
  {
   "cell_type": "code",
   "execution_count": 38,
   "metadata": {},
   "outputs": [],
   "source": [
    "indicadores['indicatorNameId'] = indicadores['indicatorNameId'].replace(2, 6)"
   ]
  },
  {
   "cell_type": "code",
   "execution_count": 40,
   "metadata": {},
   "outputs": [],
   "source": [
    "indicadores['indicatorNameId'] = indicadores['indicatorNameId'].replace(1, 2)\n",
    "indicadores['indicatorNameId'] = indicadores['indicatorNameId'].replace(4, 2)"
   ]
  },
  {
   "cell_type": "code",
   "execution_count": 42,
   "metadata": {},
   "outputs": [],
   "source": [
    "indicadores['indicatorNameId'] = indicadores['indicatorNameId'].replace(5, 1)"
   ]
  },
  {
   "cell_type": "code",
   "execution_count": 44,
   "metadata": {},
   "outputs": [],
   "source": [
    "indicadores['indicatorNameId'] = indicadores['indicatorNameId'].replace(3, 4)\n",
    "indicadores['indicatorNameId'] = indicadores['indicatorNameId'].replace(7, 4)"
   ]
  },
  {
   "cell_type": "code",
   "execution_count": 46,
   "metadata": {},
   "outputs": [],
   "source": [
    "indicadores['indicatorNameId'] = indicadores['indicatorNameId'].replace(6, 3)"
   ]
  },
  {
   "cell_type": "code",
   "execution_count": 19,
   "metadata": {},
   "outputs": [],
   "source": [
    "indicator_name = pd.DataFrame(columns=['name'])\n",
    "indicator_name['name'] = ['social_interaction', 'physical_activity', 'emmotional_state', 'overall_wellbeing']\n"
   ]
  },
  {
   "cell_type": "code",
   "execution_count": 25,
   "metadata": {},
   "outputs": [],
   "source": [
    "criterion = pd.DataFrame(columns=['name', 'nature'])\n",
    "criterion['name'] = ['gender', 'income', 'zip_code', 'age']\n",
    "criterion['nature'] = [1, 1, 1, 2]\n"
   ]
  },
  {
   "cell_type": "code",
   "execution_count": 27,
   "metadata": {},
   "outputs": [],
   "source": [
    "studies = pd.DataFrame({\n",
    "    'id': ['H39eC', 'aFeH8'],\n",
    "    'name': ['Estudio 1', 'Estudio 2'],\n",
    "    'description': ['Estudio 1', 'Estudio 2']\n",
    "})\n"
   ]
  },
  {
   "cell_type": "code",
   "execution_count": 51,
   "metadata": {},
   "outputs": [
    {
     "data": {
      "text/html": [
       "<div>\n",
       "<style scoped>\n",
       "    .dataframe tbody tr th:only-of-type {\n",
       "        vertical-align: middle;\n",
       "    }\n",
       "\n",
       "    .dataframe tbody tr th {\n",
       "        vertical-align: top;\n",
       "    }\n",
       "\n",
       "    .dataframe thead th {\n",
       "        text-align: right;\n",
       "    }\n",
       "</style>\n",
       "<table border=\"1\" class=\"dataframe\">\n",
       "  <thead>\n",
       "    <tr style=\"text-align: right;\">\n",
       "      <th></th>\n",
       "      <th>id</th>\n",
       "      <th>name</th>\n",
       "      <th>description</th>\n",
       "    </tr>\n",
       "  </thead>\n",
       "  <tbody>\n",
       "    <tr>\n",
       "      <th>0</th>\n",
       "      <td>H39eC</td>\n",
       "      <td>Estudio 1</td>\n",
       "      <td>Estudio 1</td>\n",
       "    </tr>\n",
       "    <tr>\n",
       "      <th>1</th>\n",
       "      <td>aFeH8</td>\n",
       "      <td>Estudio 2</td>\n",
       "      <td>Estudio 2</td>\n",
       "    </tr>\n",
       "  </tbody>\n",
       "</table>\n",
       "</div>"
      ],
      "text/plain": [
       "      id       name description\n",
       "0  H39eC  Estudio 1   Estudio 1\n",
       "1  aFeH8  Estudio 2   Estudio 2"
      ]
     },
     "execution_count": 51,
     "metadata": {},
     "output_type": "execute_result"
    }
   ],
   "source": [
    "studies.head()"
   ]
  },
  {
   "cell_type": "code",
   "execution_count": null,
   "metadata": {},
   "outputs": [],
   "source": []
  }
 ],
 "metadata": {
  "kernelspec": {
   "display_name": "Python 3",
   "language": "python",
   "name": "python3"
  },
  "language_info": {
   "codemirror_mode": {
    "name": "ipython",
    "version": 3
   },
   "file_extension": ".py",
   "mimetype": "text/x-python",
   "name": "python",
   "nbconvert_exporter": "python",
   "pygments_lexer": "ipython3",
   "version": "3.9.6"
  }
 },
 "nbformat": 4,
 "nbformat_minor": 2
}
